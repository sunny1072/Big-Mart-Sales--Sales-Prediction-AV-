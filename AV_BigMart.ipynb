{
 "cells": [
  {
   "cell_type": "code",
   "execution_count": 1,
   "metadata": {
    "collapsed": false
   },
   "outputs": [],
   "source": [
    "import numpy as np\n",
    "import pandas as pd\n",
    "import seaborn as sns\n",
    "import matplotlib.pyplot as plt\n"
   ]
  },
  {
   "cell_type": "code",
   "execution_count": 2,
   "metadata": {
    "collapsed": false
   },
   "outputs": [
    {
     "name": "stdout",
     "output_type": "stream",
     "text": [
      "<class 'pandas.core.frame.DataFrame'>\n",
      "RangeIndex: 8523 entries, 0 to 8522\n",
      "Data columns (total 12 columns):\n",
      "Item_Identifier              8523 non-null object\n",
      "Item_Weight                  7060 non-null float64\n",
      "Item_Fat_Content             8523 non-null object\n",
      "Item_Visibility              8523 non-null float64\n",
      "Item_Type                    8523 non-null object\n",
      "Item_MRP                     8523 non-null float64\n",
      "Outlet_Identifier            8523 non-null object\n",
      "Outlet_Establishment_Year    8523 non-null int64\n",
      "Outlet_Size                  6113 non-null object\n",
      "Outlet_Location_Type         8523 non-null object\n",
      "Outlet_Type                  8523 non-null object\n",
      "Item_Outlet_Sales            8523 non-null float64\n",
      "dtypes: float64(4), int64(1), object(7)\n",
      "memory usage: 799.1+ KB\n"
     ]
    }
   ],
   "source": [
    "df = pd.read_csv(\"C:/Users/sunny/Desktop/ML-NG/analyticsVidhya/Big-mart-sales/Train_UWu5bXk.csv\")\n",
    "df1 = pd.read_csv(\"C:/Users/sunny/Desktop/ML-NG/analyticsVidhya/Big-mart-sales/Test_u94Q5KV.csv\")\n",
    "df.info()"
   ]
  },
  {
   "cell_type": "code",
   "execution_count": 3,
   "metadata": {
    "collapsed": true
   },
   "outputs": [],
   "source": [
    "df['Item_Type_Combined'] = df['Item_Identifier'].apply(lambda x: x[0:2])\n",
    "df1['Item_Type_Combined'] = df1['Item_Identifier'].apply(lambda x: x[0:2])\n",
    "\n",
    "#Rename them to more intuitive categories:\n",
    "df['Item_Type_Combined'] = df['Item_Type_Combined'].map({'FD':1,\n",
    "                                                             'NC':2,\n",
    "                                                             'DR':3})\n",
    "df1['Item_Type_Combined'] = df1['Item_Type_Combined'].map({'FD':1,\n",
    "                                                             'NC':2,\n",
    "                                                             'DR':3})\n",
    "\n"
   ]
  },
  {
   "cell_type": "code",
   "execution_count": 4,
   "metadata": {
    "collapsed": false
   },
   "outputs": [],
   "source": [
    "al_data= pd.concat([df,df1],ignore_index=True)\n",
    "Item_visibility_AVG = al_data.pivot_table(values = 'Item_Visibility', index = 'Item_Identifier')\n",
    "df.Item_Visibility = np.where(df.Item_Visibility==0,Item_visibility_AVG[df.Item_Identifier],df.Item_Visibility)\n",
    "df1.Item_Visibility = np.where(df1.Item_Visibility==0,Item_visibility_AVG[df1.Item_Identifier],df1.Item_Visibility)\n",
    "\n",
    "df['Item_Visibility_MeanRatio'] = df.apply(lambda x: x['Item_Visibility']/Item_visibility_AVG[x['Item_Identifier']], axis=1)\n",
    "df1['Item_Visibility_MeanRatio'] = df1.apply(lambda x: x['Item_Visibility']/Item_visibility_AVG[x['Item_Identifier']], axis=1)\n"
   ]
  },
  {
   "cell_type": "code",
   "execution_count": 5,
   "metadata": {
    "collapsed": false
   },
   "outputs": [],
   "source": [
    "Item_Weight_AVG = al_data.pivot_table(values = 'Item_Weight', index = 'Item_Identifier')\n",
    "df.Item_Weight = np.where(df.Item_Weight.isnull(),Item_Weight_AVG[df.Item_Identifier],df.Item_Weight)\n",
    "df1.Item_Weight = np.where(df1.Item_Weight.isnull(),Item_Weight_AVG[df1.Item_Identifier],df1.Item_Weight)"
   ]
  },
  {
   "cell_type": "code",
   "execution_count": 6,
   "metadata": {
    "collapsed": false
   },
   "outputs": [
    {
     "name": "stdout",
     "output_type": "stream",
     "text": [
      "<class 'pandas.core.frame.DataFrame'>\n",
      "RangeIndex: 8523 entries, 0 to 8522\n",
      "Data columns (total 14 columns):\n",
      "Item_Identifier              8523 non-null object\n",
      "Item_Weight                  8523 non-null float64\n",
      "Item_Fat_Content             8523 non-null object\n",
      "Item_Visibility              8523 non-null float64\n",
      "Item_Type                    8523 non-null object\n",
      "Item_MRP                     8523 non-null float64\n",
      "Outlet_Identifier            8523 non-null object\n",
      "Outlet_Establishment_Year    8523 non-null int64\n",
      "Outlet_Size                  6113 non-null object\n",
      "Outlet_Location_Type         8523 non-null object\n",
      "Outlet_Type                  8523 non-null object\n",
      "Item_Outlet_Sales            8523 non-null float64\n",
      "Item_Type_Combined           8523 non-null int64\n",
      "Item_Visibility_MeanRatio    8523 non-null float64\n",
      "dtypes: float64(5), int64(2), object(7)\n",
      "memory usage: 932.3+ KB\n"
     ]
    }
   ],
   "source": [
    "df.info()"
   ]
  },
  {
   "cell_type": "code",
   "execution_count": 7,
   "metadata": {
    "collapsed": false
   },
   "outputs": [
    {
     "name": "stderr",
     "output_type": "stream",
     "text": [
      "C:\\Users\\sunny\\Anaconda3\\lib\\site-packages\\statsmodels\\nonparametric\\kdetools.py:20: VisibleDeprecationWarning: using a non-integer number instead of an integer will result in an error in the future\n",
      "  y = X[:m/2+1] + np.r_[0,X[m/2+1:],0]*1j\n"
     ]
    },
    {
     "data": {
      "image/png": "[encoded data removed]",
      "text/plain": [
       "<matplotlib.figure.Figure at 0x19d56dffc50>"
      ]
     },
     "metadata": {},
     "output_type": "display_data"
    }
   ],
   "source": [
    "#working on Item_weight\n",
    "df.Item_Weight=df.Item_Weight.fillna(0)\n",
    "sns.distplot(df.Item_Weight,bins=50)\n",
    "plt.show()"
   ]
  },
  {
   "cell_type": "code",
   "execution_count": 8,
   "metadata": {
    "collapsed": false
   },
   "outputs": [],
   "source": [
    "df.Item_Identifier.groupby(df.Item_Identifier).count()\n",
    "#df[df.Item_Identifier=='DRA59'])\n",
    "\n",
    "#Item_identifier,Item_weight_Item_dat_content_item_type are having 100 correlation(one to one mapping). So we will only have one attribute from them\n",
    "X_train = df.drop(['Item_Type'],axis=1)\n",
    "X_test  = df1.drop(['Item_Type'],axis=1)"
   ]
  },
  {
   "cell_type": "code",
   "execution_count": 9,
   "metadata": {
    "collapsed": false
   },
   "outputs": [],
   "source": [
    "mapping ={'LF':0,'Low Fat':0,'low fat':0,'Regular':1,'reg':1}\n",
    "#X_train.Item_Fat_Content = X_train.Item_Fat_Content.apply(lambda x:mapping[x])\n",
    "X_test.Item_Fat_Content = X_test.Item_Fat_Content.apply(lambda x:mapping[x])\n"
   ]
  },
  {
   "cell_type": "code",
   "execution_count": 10,
   "metadata": {
    "collapsed": false
   },
   "outputs": [],
   "source": [
    "#l_id=df.Item_Identifier.unique()\n",
    "#for i in l_id:\n",
    "#    t1=X_train.Item_Weight[X_train.Item_Identifier==i].max()\n",
    "#    t2=X_test.Item_Weight[X_test.Item_Identifier==i].max()\n",
    "#    X_train.Item_Weight[X_train.Item_Identifier==i]=X_train.Item_Weight[X_train.Item_Identifier==i].fillna(t1)\n",
    "#    X_test.Item_Weight[X_test.Item_Identifier==i]=X_test.Item_Weight[X_test.Item_Identifier==i].fillna(t2)\n",
    "#df.info()\n",
    "#X_train.Item_Weight = X_train.Item_Weight.fillna(X_train.Item_Weight.mean())\n",
    "#X_test.Item_Weight = X_test.Item_Weight.fillna(X_test.Item_Weight.mean())"
   ]
  },
  {
   "cell_type": "code",
   "execution_count": 11,
   "metadata": {
    "collapsed": false
   },
   "outputs": [],
   "source": [
    "#Creating new feature Old\n",
    "\n",
    "X_train['old']=df.Outlet_Establishment_Year.max()-df.Outlet_Establishment_Year\n",
    "X_test['old']=df.Outlet_Establishment_Year.max()-df1.Outlet_Establishment_Year"
   ]
  },
  {
   "cell_type": "code",
   "execution_count": 12,
   "metadata": {
    "collapsed": false
   },
   "outputs": [],
   "source": [
    "#X_train.Outlet_Location_Type.groupby(X_train.Outlet_Location_Type).count()\n",
    "#X_train.Outlet_Location_Type = np.where(X_train.Outlet_Location_Type=='Tier 1',1,np.where(X_train.Outlet_Location_Type=='Tier 2',2,3))"
   ]
  },
  {
   "cell_type": "code",
   "execution_count": 13,
   "metadata": {
    "collapsed": false
   },
   "outputs": [],
   "source": [
    "#X_train.Outlet_Identifier.groupby(X_train.Outlet_Identifier).count()\n",
    "X_train.Outlet_Size=X_train.Outlet_Size.fillna('N')\n",
    "X_test.Outlet_Size=X_test.Outlet_Size.fillna('N')"
   ]
  },
  {
   "cell_type": "code",
   "execution_count": 14,
   "metadata": {
    "collapsed": false
   },
   "outputs": [],
   "source": [
    "import sklearn.preprocessing as pp\n",
    "from sklearn.preprocessing import LabelEncoder \n",
    "combine = [X_train,X_test]\n",
    "category = ['Outlet_Identifier','Outlet_Type','Outlet_Location_Type','Outlet_Size','Item_Fat_Content']\n",
    "for dt in  combine:\n",
    "    \n",
    "    for f in category:\n",
    "        lb = LabelEncoder()\n",
    "        lb.fit(list(dt[f]))\n",
    "        dt[f]=lb.transform(dt[f])       \n",
    "    \n"
   ]
  },
  {
   "cell_type": "code",
   "execution_count": 15,
   "metadata": {
    "collapsed": false
   },
   "outputs": [
    {
     "data": {
      "text/plain": [
       "LogisticRegression(C=1.0, class_weight=None, dual=False, fit_intercept=True,\n",
       "          intercept_scaling=1, max_iter=100, multi_class='ovr', n_jobs=1,\n",
       "          penalty='l2', random_state=None, solver='liblinear', tol=0.0001,\n",
       "          verbose=0, warm_start=False)"
      ]
     },
     "execution_count": 15,
     "metadata": {},
     "output_type": "execute_result"
    }
   ],
   "source": [
    "#completion of outlet_size by logistic regression\n",
    "import sklearn.linear_model as lm\n",
    "LR = lm.LogisticRegression()\n",
    "train_x = X_train.drop(['Item_Identifier', 'Item_Visibility', 'Item_MRP', 'Item_Weight','Item_Visibility_MeanRatio',\n",
    "       'Outlet_Establishment_Year',  'Item_Outlet_Sales', 'old','Item_Fat_Content','Item_Type_Combined'],axis=1)\n",
    "train_x = train_x[train_x.Outlet_Size!=2]\n",
    "train_y = train_x['Outlet_Size']\n",
    "train_x = train_x.drop(['Outlet_Size'],axis=1)\n",
    "LR.fit(train_x,train_y)"
   ]
  },
  {
   "cell_type": "code",
   "execution_count": 16,
   "metadata": {
    "collapsed": false
   },
   "outputs": [
    {
     "data": {
      "text/plain": [
       "Index(['Outlet_Identifier', 'Outlet_Location_Type', 'Outlet_Type'], dtype='object')"
      ]
     },
     "execution_count": 16,
     "metadata": {},
     "output_type": "execute_result"
    }
   ],
   "source": [
    "train_x.columns"
   ]
  },
  {
   "cell_type": "code",
   "execution_count": 17,
   "metadata": {
    "collapsed": false
   },
   "outputs": [],
   "source": [
    "X_train.Outlet_Size=np.where(X_train.Outlet_Size==2,LR.predict(X_train[['Outlet_Identifier','Outlet_Location_Type','Outlet_Type']]),X_train.Outlet_Size)\n",
    "X_test.Outlet_Size=np.where(X_test.Outlet_Size==2,LR.predict(X_test[['Outlet_Identifier','Outlet_Location_Type','Outlet_Type']]),X_test.Outlet_Size)"
   ]
  },
  {
   "cell_type": "code",
   "execution_count": 18,
   "metadata": {
    "collapsed": false
   },
   "outputs": [
    {
     "name": "stderr",
     "output_type": "stream",
     "text": [
      "C:\\Users\\sunny\\Anaconda3\\lib\\site-packages\\statsmodels\\nonparametric\\kdetools.py:20: VisibleDeprecationWarning: using a non-integer number instead of an integer will result in an error in the future\n",
      "  y = X[:m/2+1] + np.r_[0,X[m/2+1:],0]*1j\n"
     ]
    },
    {
     "data": {
      "image/png": "[encoded data removed]",
      "text/plain": [
       "<matplotlib.figure.Figure at 0x19d56534630>"
      ]
     },
     "metadata": {},
     "output_type": "display_data"
    }
   ],
   "source": [
    "sns.distplot(X_train.Item_MRP)\n",
    "plt.show()"
   ]
  },
  {
   "cell_type": "code",
   "execution_count": 19,
   "metadata": {
    "collapsed": false
   },
   "outputs": [],
   "source": [
    "Y_train = X_train['Item_Outlet_Sales']\n",
    "X_test = X_test.drop(['Item_Identifier','Outlet_Establishment_Year'],axis=1)\n",
    "X_train = X_train.drop(['Item_Identifier','Outlet_Establishment_Year','Item_Outlet_Sales'],axis=1)"
   ]
  },
  {
   "cell_type": "code",
   "execution_count": 20,
   "metadata": {
    "collapsed": false
   },
   "outputs": [
    {
     "data": {
      "text/html": [
       "<div>\n",
       "<table border=\"1\" class=\"dataframe\">\n",
       "  <thead>\n",
       "    <tr style=\"text-align: right;\">\n",
       "      <th></th>\n",
       "      <th>Item_Weight</th>\n",
       "      <th>Item_Fat_Content</th>\n",
       "      <th>Item_Visibility</th>\n",
       "      <th>Item_MRP</th>\n",
       "      <th>Outlet_Identifier</th>\n",
       "      <th>Outlet_Size</th>\n",
       "      <th>Outlet_Location_Type</th>\n",
       "      <th>Outlet_Type</th>\n",
       "      <th>Item_Type_Combined</th>\n",
       "      <th>Item_Visibility_MeanRatio</th>\n",
       "      <th>old</th>\n",
       "    </tr>\n",
       "  </thead>\n",
       "  <tbody>\n",
       "    <tr>\n",
       "      <th>Item_Weight</th>\n",
       "      <td>1.000000</td>\n",
       "      <td>-0.022412</td>\n",
       "      <td>-0.019166</td>\n",
       "      <td>0.026172</td>\n",
       "      <td>-0.007568</td>\n",
       "      <td>-0.012690</td>\n",
       "      <td>0.002929</td>\n",
       "      <td>0.000298</td>\n",
       "      <td>-0.013401</td>\n",
       "      <td>-0.008857</td>\n",
       "      <td>0.012823</td>\n",
       "    </tr>\n",
       "    <tr>\n",
       "      <th>Item_Fat_Content</th>\n",
       "      <td>-0.022412</td>\n",
       "      <td>1.000000</td>\n",
       "      <td>0.036145</td>\n",
       "      <td>-0.000876</td>\n",
       "      <td>-0.002357</td>\n",
       "      <td>-0.004933</td>\n",
       "      <td>-0.004102</td>\n",
       "      <td>-0.004214</td>\n",
       "      <td>-0.302239</td>\n",
       "      <td>0.005795</td>\n",
       "      <td>0.000189</td>\n",
       "    </tr>\n",
       "    <tr>\n",
       "      <th>Item_Visibility</th>\n",
       "      <td>-0.019166</td>\n",
       "      <td>0.036145</td>\n",
       "      <td>1.000000</td>\n",
       "      <td>-0.004346</td>\n",
       "      <td>-0.098554</td>\n",
       "      <td>-0.016954</td>\n",
       "      <td>-0.030522</td>\n",
       "      <td>-0.173779</td>\n",
       "      <td>-0.056761</td>\n",
       "      <td>0.277279</td>\n",
       "      <td>0.075664</td>\n",
       "    </tr>\n",
       "    <tr>\n",
       "      <th>Item_MRP</th>\n",
       "      <td>0.026172</td>\n",
       "      <td>-0.000876</td>\n",
       "      <td>-0.004346</td>\n",
       "      <td>1.000000</td>\n",
       "      <td>0.003319</td>\n",
       "      <td>0.002151</td>\n",
       "      <td>0.000232</td>\n",
       "      <td>-0.001975</td>\n",
       "      <td>-0.043510</td>\n",
       "      <td>-0.014009</td>\n",
       "      <td>-0.005020</td>\n",
       "    </tr>\n",
       "    <tr>\n",
       "      <th>Outlet_Identifier</th>\n",
       "      <td>-0.007568</td>\n",
       "      <td>-0.002357</td>\n",
       "      <td>-0.098554</td>\n",
       "      <td>0.003319</td>\n",
       "      <td>1.000000</td>\n",
       "      <td>0.439922</td>\n",
       "      <td>-0.716176</td>\n",
       "      <td>0.099873</td>\n",
       "      <td>-0.001919</td>\n",
       "      <td>-0.317633</td>\n",
       "      <td>-0.079035</td>\n",
       "    </tr>\n",
       "    <tr>\n",
       "      <th>Outlet_Size</th>\n",
       "      <td>-0.012690</td>\n",
       "      <td>-0.004933</td>\n",
       "      <td>-0.016954</td>\n",
       "      <td>0.002151</td>\n",
       "      <td>0.439922</td>\n",
       "      <td>1.000000</td>\n",
       "      <td>-0.613885</td>\n",
       "      <td>-0.230330</td>\n",
       "      <td>-0.000790</td>\n",
       "      <td>-0.072205</td>\n",
       "      <td>-0.356932</td>\n",
       "    </tr>\n",
       "    <tr>\n",
       "      <th>Outlet_Location_Type</th>\n",
       "      <td>0.002929</td>\n",
       "      <td>-0.004102</td>\n",
       "      <td>-0.030522</td>\n",
       "      <td>0.000232</td>\n",
       "      <td>-0.716176</td>\n",
       "      <td>-0.613885</td>\n",
       "      <td>1.000000</td>\n",
       "      <td>0.467219</td>\n",
       "      <td>-0.001300</td>\n",
       "      <td>-0.050819</td>\n",
       "      <td>0.089216</td>\n",
       "    </tr>\n",
       "    <tr>\n",
       "      <th>Outlet_Type</th>\n",
       "      <td>0.000298</td>\n",
       "      <td>-0.004214</td>\n",
       "      <td>-0.173779</td>\n",
       "      <td>-0.001975</td>\n",
       "      <td>0.099873</td>\n",
       "      <td>-0.230330</td>\n",
       "      <td>0.467219</td>\n",
       "      <td>1.000000</td>\n",
       "      <td>-0.011182</td>\n",
       "      <td>-0.496861</td>\n",
       "      <td>0.122304</td>\n",
       "    </tr>\n",
       "    <tr>\n",
       "      <th>Item_Type_Combined</th>\n",
       "      <td>-0.013401</td>\n",
       "      <td>-0.302239</td>\n",
       "      <td>-0.056761</td>\n",
       "      <td>-0.043510</td>\n",
       "      <td>-0.001919</td>\n",
       "      <td>-0.000790</td>\n",
       "      <td>-0.001300</td>\n",
       "      <td>-0.011182</td>\n",
       "      <td>1.000000</td>\n",
       "      <td>0.008218</td>\n",
       "      <td>-0.005837</td>\n",
       "    </tr>\n",
       "    <tr>\n",
       "      <th>Item_Visibility_MeanRatio</th>\n",
       "      <td>-0.008857</td>\n",
       "      <td>0.005795</td>\n",
       "      <td>0.277279</td>\n",
       "      <td>-0.014009</td>\n",
       "      <td>-0.317633</td>\n",
       "      <td>-0.072205</td>\n",
       "      <td>-0.050819</td>\n",
       "      <td>-0.496861</td>\n",
       "      <td>0.008218</td>\n",
       "      <td>1.000000</td>\n",
       "      <td>0.245154</td>\n",
       "    </tr>\n",
       "    <tr>\n",
       "      <th>old</th>\n",
       "      <td>0.012823</td>\n",
       "      <td>0.000189</td>\n",
       "      <td>0.075664</td>\n",
       "      <td>-0.005020</td>\n",
       "      <td>-0.079035</td>\n",
       "      <td>-0.356932</td>\n",
       "      <td>0.089216</td>\n",
       "      <td>0.122304</td>\n",
       "      <td>-0.005837</td>\n",
       "      <td>0.245154</td>\n",
       "      <td>1.000000</td>\n",
       "    </tr>\n",
       "  </tbody>\n",
       "</table>\n",
       "</div>"
      ],
      "text/plain": [
       "                           Item_Weight  Item_Fat_Content  Item_Visibility  \\\n",
       "Item_Weight                   1.000000         -0.022412        -0.019166   \n",
       "Item_Fat_Content             -0.022412          1.000000         0.036145   \n",
       "Item_Visibility              -0.019166          0.036145         1.000000   \n",
       "Item_MRP                      0.026172         -0.000876        -0.004346   \n",
       "Outlet_Identifier            -0.007568         -0.002357        -0.098554   \n",
       "Outlet_Size                  -0.012690         -0.004933        -0.016954   \n",
       "Outlet_Location_Type          0.002929         -0.004102        -0.030522   \n",
       "Outlet_Type                   0.000298         -0.004214        -0.173779   \n",
       "Item_Type_Combined           -0.013401         -0.302239        -0.056761   \n",
       "Item_Visibility_MeanRatio    -0.008857          0.005795         0.277279   \n",
       "old                           0.012823          0.000189         0.075664   \n",
       "\n",
       "                           Item_MRP  Outlet_Identifier  Outlet_Size  \\\n",
       "Item_Weight                0.026172          -0.007568    -0.012690   \n",
       "Item_Fat_Content          -0.000876          -0.002357    -0.004933   \n",
       "Item_Visibility           -0.004346          -0.098554    -0.016954   \n",
       "Item_MRP                   1.000000           0.003319     0.002151   \n",
       "Outlet_Identifier          0.003319           1.000000     0.439922   \n",
       "Outlet_Size                0.002151           0.439922     1.000000   \n",
       "Outlet_Location_Type       0.000232          -0.716176    -0.613885   \n",
       "Outlet_Type               -0.001975           0.099873    -0.230330   \n",
       "Item_Type_Combined        -0.043510          -0.001919    -0.000790   \n",
       "Item_Visibility_MeanRatio -0.014009          -0.317633    -0.072205   \n",
       "old                       -0.005020          -0.079035    -0.356932   \n",
       "\n",
       "                           Outlet_Location_Type  Outlet_Type  \\\n",
       "Item_Weight                            0.002929     0.000298   \n",
       "Item_Fat_Content                      -0.004102    -0.004214   \n",
       "Item_Visibility                       -0.030522    -0.173779   \n",
       "Item_MRP                               0.000232    -0.001975   \n",
       "Outlet_Identifier                     -0.716176     0.099873   \n",
       "Outlet_Size                           -0.613885    -0.230330   \n",
       "Outlet_Location_Type                   1.000000     0.467219   \n",
       "Outlet_Type                            0.467219     1.000000   \n",
       "Item_Type_Combined                    -0.001300    -0.011182   \n",
       "Item_Visibility_MeanRatio             -0.050819    -0.496861   \n",
       "old                                    0.089216     0.122304   \n",
       "\n",
       "                           Item_Type_Combined  Item_Visibility_MeanRatio  \\\n",
       "Item_Weight                         -0.013401                  -0.008857   \n",
       "Item_Fat_Content                    -0.302239                   0.005795   \n",
       "Item_Visibility                     -0.056761                   0.277279   \n",
       "Item_MRP                            -0.043510                  -0.014009   \n",
       "Outlet_Identifier                   -0.001919                  -0.317633   \n",
       "Outlet_Size                         -0.000790                  -0.072205   \n",
       "Outlet_Location_Type                -0.001300                  -0.050819   \n",
       "Outlet_Type                         -0.011182                  -0.496861   \n",
       "Item_Type_Combined                   1.000000                   0.008218   \n",
       "Item_Visibility_MeanRatio            0.008218                   1.000000   \n",
       "old                                 -0.005837                   0.245154   \n",
       "\n",
       "                                old  \n",
       "Item_Weight                0.012823  \n",
       "Item_Fat_Content           0.000189  \n",
       "Item_Visibility            0.075664  \n",
       "Item_MRP                  -0.005020  \n",
       "Outlet_Identifier         -0.079035  \n",
       "Outlet_Size               -0.356932  \n",
       "Outlet_Location_Type       0.089216  \n",
       "Outlet_Type                0.122304  \n",
       "Item_Type_Combined        -0.005837  \n",
       "Item_Visibility_MeanRatio  0.245154  \n",
       "old                        1.000000  "
      ]
     },
     "execution_count": 20,
     "metadata": {},
     "output_type": "execute_result"
    }
   ],
   "source": [
    "X_train.corr()"
   ]
  },
  {
   "cell_type": "code",
   "execution_count": 21,
   "metadata": {
    "collapsed": false
   },
   "outputs": [],
   "source": [
    "X_train.drop(['Item_Weight'],inplace=True,axis=1)\n",
    "X_test.drop(['Item_Weight'],inplace=True,axis=1)"
   ]
  },
  {
   "cell_type": "code",
   "execution_count": 200,
   "metadata": {
    "collapsed": false
   },
   "outputs": [],
   "source": [
    "LR1 =lm.LinearRegression()\n",
    "LR1.fit(X_train,Y_train)\n",
    "Y_pred1 = LR1.predict(X_test)\n",
    "np.savetxt('C:/Users/sunny/Desktop/ML-NG/analyticsVidhya/Big-mart-sales/pred9.csv', Y_pred1, delimiter=',')"
   ]
  },
  {
   "cell_type": "code",
   "execution_count": 201,
   "metadata": {
    "collapsed": true
   },
   "outputs": [],
   "source": [
    "LR2 =lm.Ridge()\n",
    "LR1.fit(X_train,Y_train)\n",
    "Y_pred2 = LR1.predict(X_test)\n",
    "np.savetxt('C:/Users/sunny/Desktop/ML-NG/analyticsVidhya/Big-mart-sales/pred2.csv', Y_pred2, delimiter=',')"
   ]
  },
  {
   "cell_type": "code",
   "execution_count": 202,
   "metadata": {
    "collapsed": true
   },
   "outputs": [],
   "source": [
    "from sklearn.ensemble import GradientBoostingRegressor\n",
    "gbm1 = GradientBoostingRegressor()\n",
    "gbm1.fit(X_train,Y_train)\n",
    "Y_pred3 = gbm1.predict(X_test)\n",
    "np.savetxt('C:/Users/sunny/Desktop/ML-NG/analyticsVidhya/Big-mart-sales/gbm.csv', Y_pred3, delimiter=',')"
   ]
  },
  {
   "cell_type": "code",
   "execution_count": 203,
   "metadata": {
    "collapsed": false
   },
   "outputs": [],
   "source": [
    "from sklearn.svm import SVR\n",
    "svm1 = SVR()\n",
    "svm1.fit(X_train,Y_train)\n",
    "Y_pred4 = svm1.predict(X_test)\n",
    "np.savetxt('C:/Users/sunny/Desktop/ML-NG/analyticsVidhya/Big-mart-sales/pred3.csv', Y_pred4, delimiter=',')"
   ]
  },
  {
   "cell_type": "code",
   "execution_count": 204,
   "metadata": {
    "collapsed": false
   },
   "outputs": [],
   "source": [
    "import os\n",
    "\n",
    "mingw_path = 'C:\\\\Program Files\\\\mingw-w64\\\\x86_64-5.3.0-posix-seh-rt_v4-rev0\\\\mingw64\\\\bin'\n",
    "\n",
    "os.environ['PATH'] = mingw_path + ';' + os.environ['PATH']"
   ]
  },
  {
   "cell_type": "code",
   "execution_count": 205,
   "metadata": {
    "collapsed": false
   },
   "outputs": [],
   "source": [
    "import xgboost as xgb\n",
    "reg = xgb.XGBRegressor()\n",
    "reg.fit(X_train,Y_train)\n",
    "Y_pred5 = reg.predict(X_test)\n",
    "np.savetxt('C:/Users/sunny/Desktop/ML-NG/analyticsVidhya/Big-mart-sales/pred10.csv', Y_pred5, delimiter=',')"
   ]
  },
  {
   "cell_type": "code",
   "execution_count": 206,
   "metadata": {
    "collapsed": false
   },
   "outputs": [],
   "source": [
    "from sklearn import neighbors\n",
    "knn= neighbors.KNeighborsRegressor()\n",
    "knn.fit(X_train,Y_train)\n",
    "Y_pred6 = knn.predict(X_test)\n",
    "np.savetxt('C:/Users/sunny/Desktop/ML-NG/analyticsVidhya/Big-mart-sales/pred13.csv', Y_pred6, delimiter=',')"
   ]
  },
  {
   "cell_type": "code",
   "execution_count": 207,
   "metadata": {
    "collapsed": false
   },
   "outputs": [
    {
     "name": "stderr",
     "output_type": "stream",
     "text": [
      "[Parallel(n_jobs=1)]: Done 100 out of 100 | elapsed:    6.0s finished\n",
      "[Parallel(n_jobs=1)]: Done 100 out of 100 | elapsed:    0.2s finished\n"
     ]
    }
   ],
   "source": [
    "from sklearn.ensemble import RandomForestRegressor\n",
    "RF= RandomForestRegressor(n_estimators=100, oob_score=True,random_state=7, verbose=1)\n",
    "RF.fit(X_train,Y_train)\n",
    "Y_pred7 = RF.predict(X_test)\n",
    "np.savetxt('C:/Users/sunny/Desktop/ML-NG/analyticsVidhya/Big-mart-sales/pred15.csv', Y_pred7, delimiter=',')"
   ]
  },
  {
   "cell_type": "code",
   "execution_count": 208,
   "metadata": {
    "collapsed": false
   },
   "outputs": [],
   "source": [
    "from sklearn.tree import DecisionTreeRegressor\n",
    "alg3 = DecisionTreeRegressor()\n",
    "alg3.fit(X_train,Y_train)\n",
    "Y_pred8 = alg3.predict(X_test)\n",
    "np.savetxt('C:/Users/sunny/Desktop/ML-NG/analyticsVidhya/Big-mart-sales/pred18.csv', Y_pred8, delimiter=',')"
   ]
  },
  {
   "cell_type": "code",
   "execution_count": 23,
   "metadata": {
    "collapsed": false
   },
   "outputs": [],
   "source": [
    "#from sklearn import tree\n",
    "#tree.export_graphviz(alg3,out_file='C:/Users/sunny/Desktop/ML-NG/analyticsVidhya/Big-mart-sales/tree.dot')"
   ]
  },
  {
   "cell_type": "code",
   "execution_count": 25,
   "metadata": {
    "collapsed": false
   },
   "outputs": [
    {
     "ename": "NameError",
     "evalue": "name 'Y_pred1' is not defined",
     "output_type": "error",
     "traceback": [
      "\u001b[0;31m---------------------------------------------------------------------------\u001b[0m",
      "\u001b[0;31mNameError\u001b[0m                                 Traceback (most recent call last)",
      "\u001b[0;32m<ipython-input-25-1b920df05bb3>\u001b[0m in \u001b[0;36m<module>\u001b[0;34m()\u001b[0m\n\u001b[0;32m----> 1\u001b[0;31m \u001b[0mY_final\u001b[0m \u001b[1;33m=\u001b[0m \u001b[1;33m(\u001b[0m\u001b[0mY_pred1\u001b[0m\u001b[1;33m+\u001b[0m\u001b[0mY_pred2\u001b[0m\u001b[1;33m+\u001b[0m\u001b[0mY_pred3\u001b[0m\u001b[1;33m+\u001b[0m\u001b[0mY_pred5\u001b[0m\u001b[1;33m+\u001b[0m\u001b[0mY_pred6\u001b[0m\u001b[1;33m+\u001b[0m\u001b[0mY_pred7\u001b[0m\u001b[1;33m+\u001b[0m\u001b[0mY_pred8\u001b[0m\u001b[1;33m)\u001b[0m\u001b[1;33m/\u001b[0m\u001b[1;36m7\u001b[0m\u001b[1;33m\u001b[0m\u001b[0m\n\u001b[0m\u001b[1;32m      2\u001b[0m \u001b[0mnp\u001b[0m\u001b[1;33m.\u001b[0m\u001b[0msavetxt\u001b[0m\u001b[1;33m(\u001b[0m\u001b[1;34m'C:/Users/sunny/Desktop/ML-NG/analyticsVidhya/Big-mart-sales/stacking.csv'\u001b[0m\u001b[1;33m,\u001b[0m \u001b[0mY_final\u001b[0m\u001b[1;33m,\u001b[0m \u001b[0mdelimiter\u001b[0m\u001b[1;33m=\u001b[0m\u001b[1;34m','\u001b[0m\u001b[1;33m)\u001b[0m\u001b[1;33m\u001b[0m\u001b[0m\n",
      "\u001b[0;31mNameError\u001b[0m: name 'Y_pred1' is not defined"
     ]
    }
   ],
   "source": [
    "Y_final = (Y_pred1+Y_pred2+Y_pred3+Y_pred5+Y_pred6+Y_pred7+Y_pred8)/7\n",
    "np.savetxt('C:/Users/sunny/Desktop/ML-NG/analyticsVidhya/Big-mart-sales/stacking.csv', Y_final, delimiter=',')"
   ]
  },
  {
   "cell_type": "code",
   "execution_count": 26,
   "metadata": {
    "collapsed": false
   },
   "outputs": [
    {
     "data": {
      "text/plain": [
       "((8523, 10), (5681, 10))"
      ]
     },
     "execution_count": 26,
     "metadata": {},
     "output_type": "execute_result"
    }
   ],
   "source": [
    "X_train.shape,X_test.shape"
   ]
  },
  {
   "cell_type": "code",
   "execution_count": 22,
   "metadata": {
    "collapsed": false
   },
   "outputs": [
    {
     "name": "stderr",
     "output_type": "stream",
     "text": [
      "Using TensorFlow backend.\n"
     ]
    },
    {
     "name": "stdout",
     "output_type": "stream",
     "text": [
      "Epoch 1/200\n",
      "8523/8523 [==============================] - 6s - loss: 4619342.1257     \n",
      "Epoch 2/200\n",
      "8523/8523 [==============================] - 5s - loss: 1956529.5420     \n",
      "Epoch 3/200\n",
      "8523/8523 [==============================] - 5s - loss: 1938652.7551     \n",
      "Epoch 4/200\n",
      "8523/8523 [==============================] - 4s - loss: 1928827.3157     \n",
      "Epoch 5/200\n",
      "8523/8523 [==============================] - 3s - loss: 1919919.8069     \n",
      "Epoch 6/200\n",
      "8523/8523 [==============================] - 3s - loss: 1911291.7319     \n",
      "Epoch 7/200\n",
      "8523/8523 [==============================] - 3s - loss: 1903073.9943     \n",
      "Epoch 8/200\n",
      "8523/8523 [==============================] - 3s - loss: 1893983.2649     \n",
      "Epoch 9/200\n",
      "8523/8523 [==============================] - 3s - loss: 1885650.8375     \n",
      "Epoch 10/200\n",
      "8523/8523 [==============================] - 3s - loss: 1877135.3368     \n",
      "Epoch 11/200\n",
      "8523/8523 [==============================] - 3s - loss: 1868820.1901     \n",
      "Epoch 12/200\n",
      "8523/8523 [==============================] - 3s - loss: 1859784.2043     \n",
      "Epoch 13/200\n",
      "8523/8523 [==============================] - 3s - loss: 1850738.0329     \n",
      "Epoch 14/200\n",
      "8523/8523 [==============================] - 3s - loss: 1842462.3370     \n",
      "Epoch 15/200\n",
      "8523/8523 [==============================] - 3s - loss: 1833184.4443     \n",
      "Epoch 16/200\n",
      "8523/8523 [==============================] - 3s - loss: 1825098.2977     \n",
      "Epoch 17/200\n",
      "8523/8523 [==============================] - 3s - loss: 1816375.5921     \n",
      "Epoch 18/200\n",
      "8523/8523 [==============================] - 3s - loss: 1806907.7072     \n",
      "Epoch 19/200\n",
      "8523/8523 [==============================] - 3s - loss: 1798161.1231     \n",
      "Epoch 20/200\n",
      "8523/8523 [==============================] - 3s - loss: 1788214.2531     \n",
      "Epoch 21/200\n",
      "8523/8523 [==============================] - 3s - loss: 1779628.2478     \n",
      "Epoch 22/200\n",
      "8523/8523 [==============================] - 3s - loss: 1769765.6642     \n",
      "Epoch 23/200\n",
      "8523/8523 [==============================] - 3s - loss: 1760268.5064     \n",
      "Epoch 24/200\n",
      "8523/8523 [==============================] - 3s - loss: 1750074.3834     \n",
      "Epoch 25/200\n",
      "8523/8523 [==============================] - 3s - loss: 1739758.8168     \n",
      "Epoch 26/200\n",
      "8523/8523 [==============================] - 3s - loss: 1729536.6939     \n",
      "Epoch 27/200\n",
      "8523/8523 [==============================] - 3s - loss: 1719395.4367     \n",
      "Epoch 28/200\n",
      "8523/8523 [==============================] - 3s - loss: 1709139.0261     \n",
      "Epoch 29/200\n",
      "8523/8523 [==============================] - 3s - loss: 1698388.8476     \n",
      "Epoch 30/200\n",
      "8523/8523 [==============================] - 3s - loss: 1687823.5817     \n",
      "Epoch 31/200\n",
      "8523/8523 [==============================] - 3s - loss: 1676995.0088     \n",
      "Epoch 32/200\n",
      "8523/8523 [==============================] - 3s - loss: 1666095.2223     \n",
      "Epoch 33/200\n",
      "8523/8523 [==============================] - 3s - loss: 1655276.4833     \n",
      "Epoch 34/200\n",
      "8523/8523 [==============================] - 3s - loss: 1644711.1735     \n",
      "Epoch 35/200\n",
      "8523/8523 [==============================] - 3s - loss: 1633152.9666     \n",
      "Epoch 36/200\n",
      "8523/8523 [==============================] - 3s - loss: 1622634.3727     \n",
      "Epoch 37/200\n",
      "8523/8523 [==============================] - 3s - loss: 1613120.4515     \n",
      "Epoch 38/200\n",
      "8523/8523 [==============================] - 3s - loss: 1602259.9101     \n",
      "Epoch 39/200\n",
      "8523/8523 [==============================] - 3s - loss: 1593245.5235     \n",
      "Epoch 40/200\n",
      "8523/8523 [==============================] - 3s - loss: 1582516.3710     \n",
      "Epoch 41/200\n",
      "8523/8523 [==============================] - 3s - loss: 1573744.8550     \n",
      "Epoch 42/200\n",
      "8523/8523 [==============================] - 3s - loss: 1564806.8673     \n",
      "Epoch 43/200\n",
      "8523/8523 [==============================] - 3s - loss: 1555549.8080     \n",
      "Epoch 44/200\n",
      "8523/8523 [==============================] - 3s - loss: 1546381.8168     \n",
      "Epoch 45/200\n",
      "8523/8523 [==============================] - 3s - loss: 1538936.6805     \n",
      "Epoch 46/200\n",
      "8523/8523 [==============================] - 3s - loss: 1530421.7862     \n",
      "Epoch 47/200\n",
      "8523/8523 [==============================] - 4s - loss: 1524442.6250     \n",
      "Epoch 48/200\n",
      "8523/8523 [==============================] - 6s - loss: 1517286.6484     \n",
      "Epoch 49/200\n",
      "8523/8523 [==============================] - 6s - loss: 1511154.8540     \n",
      "Epoch 50/200\n",
      "8523/8523 [==============================] - 6s - loss: 1505172.8125     \n",
      "Epoch 51/200\n",
      "8523/8523 [==============================] - 4s - loss: 1497702.0399     \n",
      "Epoch 52/200\n",
      "8523/8523 [==============================] - 3s - loss: 1493711.7275     \n",
      "Epoch 53/200\n",
      "8523/8523 [==============================] - 3s - loss: 1488695.1247     \n",
      "Epoch 54/200\n",
      "8523/8523 [==============================] - 3s - loss: 1483762.3232     \n",
      "Epoch 55/200\n",
      "8523/8523 [==============================] - 3s - loss: 1478446.1222     \n",
      "Epoch 56/200\n",
      "8523/8523 [==============================] - 3s - loss: 1474605.3928     \n",
      "Epoch 57/200\n",
      "8523/8523 [==============================] - 3s - loss: 1471416.1641     \n",
      "Epoch 58/200\n",
      "8523/8523 [==============================] - 3s - loss: 1467630.4945     \n",
      "Epoch 59/200\n",
      "8523/8523 [==============================] - 4s - loss: 1463547.7194     \n",
      "Epoch 60/200\n",
      "8523/8523 [==============================] - 4s - loss: 1460799.8651     \n",
      "Epoch 61/200\n",
      "8523/8523 [==============================] - 3s - loss: 1457503.4588     \n",
      "Epoch 62/200\n",
      "8523/8523 [==============================] - 3s - loss: 1454805.5615     \n",
      "Epoch 63/200\n",
      "8523/8523 [==============================] - 4s - loss: 1451786.3026     \n",
      "Epoch 64/200\n",
      "8523/8523 [==============================] - 4s - loss: 1449595.8416     \n",
      "Epoch 65/200\n",
      "8523/8523 [==============================] - 6s - loss: 1445902.6567     \n",
      "Epoch 66/200\n",
      "8523/8523 [==============================] - 5s - loss: 1444469.2728     \n",
      "Epoch 67/200\n",
      "8523/8523 [==============================] - 6s - loss: 1441221.7985     \n",
      "Epoch 68/200\n",
      "8523/8523 [==============================] - 6s - loss: 1440227.5902     \n",
      "Epoch 69/200\n",
      "8523/8523 [==============================] - 5s - loss: 1437609.9050     \n",
      "Epoch 70/200\n",
      "8523/8523 [==============================] - 6s - loss: 1435852.7782     \n",
      "Epoch 71/200\n",
      "8523/8523 [==============================] - 5s - loss: 1433376.1810     \n",
      "Epoch 72/200\n",
      "8523/8523 [==============================] - 4s - loss: 1431934.7909     \n",
      "Epoch 73/200\n",
      "8523/8523 [==============================] - 3s - loss: 1429701.5679     \n",
      "Epoch 74/200\n",
      "8523/8523 [==============================] - 3s - loss: 1428293.6347     \n",
      "Epoch 75/200\n",
      "8523/8523 [==============================] - 3s - loss: 1425663.6698     \n",
      "Epoch 76/200\n",
      "8523/8523 [==============================] - 3s - loss: 1425154.7409     \n",
      "Epoch 77/200\n",
      "8523/8523 [==============================] - 3s - loss: 1422499.2246     \n",
      "Epoch 78/200\n",
      "8523/8523 [==============================] - 4s - loss: 1420829.9742     \n",
      "Epoch 79/200\n",
      "8523/8523 [==============================] - 4s - loss: 1420427.7876     \n",
      "Epoch 80/200\n",
      "8523/8523 [==============================] - 4s - loss: 1418277.4393     \n",
      "Epoch 81/200\n",
      "8523/8523 [==============================] - 4s - loss: 1417501.1926     \n",
      "Epoch 82/200\n",
      "8523/8523 [==============================] - 4s - loss: 1416240.1383     \n",
      "Epoch 83/200\n",
      "8523/8523 [==============================] - 3s - loss: 1415040.9813     \n",
      "Epoch 84/200\n",
      "8523/8523 [==============================] - 3s - loss: 1412382.0132     \n",
      "Epoch 85/200\n",
      "8523/8523 [==============================] - 3s - loss: 1411880.0703     \n",
      "Epoch 86/200\n",
      "8523/8523 [==============================] - 3s - loss: 1410388.4878     \n",
      "Epoch 87/200\n",
      "8523/8523 [==============================] - 3s - loss: 1409225.6419     \n",
      "Epoch 88/200\n",
      "8523/8523 [==============================] - 3s - loss: 1407874.1073     \n",
      "Epoch 89/200\n",
      "8523/8523 [==============================] - 3s - loss: 1406988.1977     \n",
      "Epoch 90/200\n",
      "8523/8523 [==============================] - 3s - loss: 1405022.1062     \n",
      "Epoch 91/200\n",
      "8523/8523 [==============================] - 3s - loss: 1405032.8648     \n",
      "Epoch 92/200\n",
      "8523/8523 [==============================] - 3s - loss: 1403283.1072     \n",
      "Epoch 93/200\n",
      "8523/8523 [==============================] - 3s - loss: 1402829.5049     \n",
      "Epoch 94/200\n",
      "8523/8523 [==============================] - 3s - loss: 1400768.1926     \n",
      "Epoch 95/200\n",
      "8523/8523 [==============================] - 3s - loss: 1400123.4741     \n",
      "Epoch 96/200\n",
      "8523/8523 [==============================] - 3s - loss: 1398781.4425     \n",
      "Epoch 97/200\n",
      "8523/8523 [==============================] - 3s - loss: 1396456.1734     \n",
      "Epoch 98/200\n",
      "8523/8523 [==============================] - 3s - loss: 1398848.5391     \n",
      "Epoch 99/200\n",
      "8523/8523 [==============================] - 3s - loss: 1394553.0766     \n",
      "Epoch 100/200\n",
      "8523/8523 [==============================] - 3s - loss: 1394476.9365     \n",
      "Epoch 101/200\n",
      "8523/8523 [==============================] - 3s - loss: 1395058.7216     \n",
      "Epoch 102/200\n",
      "8523/8523 [==============================] - 3s - loss: 1393587.0787     \n",
      "Epoch 103/200\n",
      "8523/8523 [==============================] - 3s - loss: 1391883.0320     \n",
      "Epoch 104/200\n",
      "8523/8523 [==============================] - 3s - loss: 1391630.0084     \n",
      "Epoch 105/200\n",
      "8523/8523 [==============================] - 3s - loss: 1391166.3952     \n",
      "Epoch 106/200\n",
      "8523/8523 [==============================] - 3s - loss: 1389496.9764     \n",
      "Epoch 107/200\n",
      "8523/8523 [==============================] - 3s - loss: 1389736.1766     \n",
      "Epoch 108/200\n",
      "8523/8523 [==============================] - 3s - loss: 1388533.5045     \n",
      "Epoch 109/200\n",
      "8523/8523 [==============================] - 3s - loss: 1387740.2856     \n",
      "Epoch 110/200\n",
      "8523/8523 [==============================] - 3s - loss: 1387149.4786     \n",
      "Epoch 111/200\n",
      "8523/8523 [==============================] - 3s - loss: 1385216.9020     \n",
      "Epoch 112/200\n",
      "8523/8523 [==============================] - 3s - loss: 1385276.0706     \n",
      "Epoch 113/200\n",
      "8523/8523 [==============================] - 3s - loss: 1385074.2658     \n",
      "Epoch 114/200\n",
      "8523/8523 [==============================] - 3s - loss: 1384153.0433     \n",
      "Epoch 115/200\n",
      "8523/8523 [==============================] - 3s - loss: 1383253.4530     \n",
      "Epoch 116/200\n",
      "8523/8523 [==============================] - 3s - loss: 1382677.5898     \n",
      "Epoch 117/200\n",
      "8523/8523 [==============================] - 3s - loss: 1381774.0050     \n",
      "Epoch 118/200\n",
      "8523/8523 [==============================] - 3s - loss: 1380849.0160     \n",
      "Epoch 119/200\n",
      "8523/8523 [==============================] - 5s - loss: 1378963.5310     \n",
      "Epoch 120/200\n",
      "8523/8523 [==============================] - 4s - loss: 1380193.6181     \n",
      "Epoch 121/200\n",
      "8523/8523 [==============================] - 3s - loss: 1379928.5684     \n",
      "Epoch 122/200\n",
      "8523/8523 [==============================] - 4s - loss: 1377866.1096     \n",
      "Epoch 123/200\n",
      "8523/8523 [==============================] - 3s - loss: 1378125.2979     \n",
      "Epoch 124/200\n",
      "8523/8523 [==============================] - 3s - loss: 1377249.9503     \n",
      "Epoch 125/200\n",
      "8523/8523 [==============================] - 3s - loss: 1376128.7399     \n",
      "Epoch 126/200\n",
      "8523/8523 [==============================] - 3s - loss: 1374568.3299     \n",
      "Epoch 127/200\n",
      "8523/8523 [==============================] - 3s - loss: 1376475.5279     \n",
      "Epoch 128/200\n",
      "8523/8523 [==============================] - 3s - loss: 1374134.6774     \n",
      "Epoch 129/200\n",
      "8523/8523 [==============================] - 3s - loss: 1374757.1518     \n",
      "Epoch 130/200\n",
      "8523/8523 [==============================] - 6s - loss: 1373328.1071     \n",
      "Epoch 131/200\n",
      "8523/8523 [==============================] - 6s - loss: 1373436.9847     \n",
      "Epoch 132/200\n",
      "8523/8523 [==============================] - 5s - loss: 1372803.0810     \n",
      "Epoch 133/200\n",
      "8523/8523 [==============================] - 5s - loss: 1371750.5833     \n",
      "Epoch 134/200\n",
      "8523/8523 [==============================] - 4s - loss: 1370849.0348     \n",
      "Epoch 135/200\n",
      "8523/8523 [==============================] - 4s - loss: 1371420.9918     \n",
      "Epoch 136/200\n",
      "8523/8523 [==============================] - 4s - loss: 1370532.9016     \n",
      "Epoch 137/200\n",
      "8523/8523 [==============================] - 4s - loss: 1370175.2085     \n",
      "Epoch 138/200\n",
      "8523/8523 [==============================] - 5s - loss: 1367300.2675     \n",
      "Epoch 139/200\n",
      "8523/8523 [==============================] - 6s - loss: 1368977.6869     \n",
      "Epoch 140/200\n",
      "8523/8523 [==============================] - 4s - loss: 1369143.5366     \n",
      "Epoch 141/200\n",
      "8523/8523 [==============================] - 3s - loss: 1368235.7349     \n",
      "Epoch 142/200\n",
      "8523/8523 [==============================] - 3s - loss: 1367078.8712     \n",
      "Epoch 143/200\n",
      "8523/8523 [==============================] - 3s - loss: 1366072.5710     \n",
      "Epoch 144/200\n",
      "8523/8523 [==============================] - 3s - loss: 1366789.8097     \n",
      "Epoch 145/200\n",
      "8523/8523 [==============================] - 3s - loss: 1365734.0166     \n",
      "Epoch 146/200\n",
      "8523/8523 [==============================] - 3s - loss: 1365439.6486     \n",
      "Epoch 147/200\n",
      "8523/8523 [==============================] - 3s - loss: 1366373.4591     \n",
      "Epoch 148/200\n",
      "8523/8523 [==============================] - 3s - loss: 1363987.9137     \n",
      "Epoch 149/200\n",
      "8523/8523 [==============================] - 3s - loss: 1364734.1554     \n",
      "Epoch 150/200\n",
      "8523/8523 [==============================] - 3s - loss: 1363725.6679     \n",
      "Epoch 151/200\n",
      "8523/8523 [==============================] - 3s - loss: 1364072.8540     \n",
      "Epoch 152/200\n",
      "8523/8523 [==============================] - 4s - loss: 1363447.3510     \n",
      "Epoch 153/200\n",
      "8523/8523 [==============================] - 4s - loss: 1362409.2341     \n",
      "Epoch 154/200\n",
      "8523/8523 [==============================] - 3s - loss: 1362819.9601     \n",
      "Epoch 155/200\n",
      "8523/8523 [==============================] - 3s - loss: 1362190.0252     \n",
      "Epoch 156/200\n",
      "8523/8523 [==============================] - 3s - loss: 1360184.9769     \n",
      "Epoch 157/200\n",
      "8523/8523 [==============================] - 3s - loss: 1361587.0400     \n",
      "Epoch 158/200\n",
      "8523/8523 [==============================] - 3s - loss: 1361209.3013     \n",
      "Epoch 159/200\n",
      "8523/8523 [==============================] - 3s - loss: 1360275.5158     \n",
      "Epoch 160/200\n",
      "8523/8523 [==============================] - 3s - loss: 1360748.5879     \n",
      "Epoch 161/200\n",
      "8523/8523 [==============================] - 3s - loss: 1359996.3265     \n",
      "Epoch 162/200\n",
      "8523/8523 [==============================] - 3s - loss: 1359733.9549     \n",
      "Epoch 163/200\n",
      "8523/8523 [==============================] - 3s - loss: 1359602.1369     \n",
      "Epoch 164/200\n",
      "8523/8523 [==============================] - 4s - loss: 1359010.0774     \n",
      "Epoch 165/200\n",
      "8523/8523 [==============================] - 5s - loss: 1357464.5888     \n",
      "Epoch 166/200\n",
      "8523/8523 [==============================] - 6s - loss: 1357590.4164     \n",
      "Epoch 167/200\n",
      "8523/8523 [==============================] - 5s - loss: 1357504.6794     \n",
      "Epoch 168/200\n",
      "8523/8523 [==============================] - 4s - loss: 1356709.9183     \n",
      "Epoch 169/200\n",
      "8523/8523 [==============================] - 5s - loss: 1357189.5460     \n",
      "Epoch 170/200\n",
      "8523/8523 [==============================] - 5s - loss: 1356169.9174     \n",
      "Epoch 171/200\n",
      "8523/8523 [==============================] - 3s - loss: 1357332.4206     \n",
      "Epoch 172/200\n",
      "8523/8523 [==============================] - 3s - loss: 1354875.3877     \n",
      "Epoch 173/200\n",
      "8523/8523 [==============================] - 4s - loss: 1355150.3942     \n",
      "Epoch 174/200\n",
      "8523/8523 [==============================] - 3s - loss: 1356200.7310     \n",
      "Epoch 175/200\n",
      "8523/8523 [==============================] - 3s - loss: 1354905.1731     \n",
      "Epoch 176/200\n",
      "8523/8523 [==============================] - 4s - loss: 1354590.8012     \n",
      "Epoch 177/200\n",
      "8523/8523 [==============================] - 4s - loss: 1354353.1275     \n",
      "Epoch 178/200\n",
      "8523/8523 [==============================] - 3s - loss: 1354227.2128     \n",
      "Epoch 179/200\n",
      "8523/8523 [==============================] - 4s - loss: 1355187.6912     \n",
      "Epoch 180/200\n",
      "8523/8523 [==============================] - 5s - loss: 1353384.7444     \n",
      "Epoch 181/200\n",
      "8523/8523 [==============================] - 4s - loss: 1353730.9492     \n",
      "Epoch 182/200\n",
      "8523/8523 [==============================] - 4s - loss: 1353964.2841     \n",
      "Epoch 183/200\n",
      "8523/8523 [==============================] - 4s - loss: 1352154.0813     \n",
      "Epoch 184/200\n",
      "8523/8523 [==============================] - 4s - loss: 1352793.2146     \n",
      "Epoch 185/200\n",
      "8523/8523 [==============================] - 4s - loss: 1352858.3939     \n",
      "Epoch 186/200\n",
      "8523/8523 [==============================] - 4s - loss: 1352609.3808     \n",
      "Epoch 187/200\n",
      "8523/8523 [==============================] - 5s - loss: 1351505.5121     \n",
      "Epoch 188/200\n",
      "8523/8523 [==============================] - 3s - loss: 1351731.0375     \n",
      "Epoch 189/200\n",
      "8523/8523 [==============================] - 4s - loss: 1351440.2046     \n",
      "Epoch 190/200\n",
      "8523/8523 [==============================] - 4s - loss: 1350690.9395     \n",
      "Epoch 191/200\n",
      "8523/8523 [==============================] - 4s - loss: 1351105.6832     \n",
      "Epoch 192/200\n",
      "8523/8523 [==============================] - 4s - loss: 1349913.7804     \n",
      "Epoch 193/200\n",
      "8523/8523 [==============================] - 6s - loss: 1349424.3591     \n",
      "Epoch 194/200\n",
      "8523/8523 [==============================] - 4s - loss: 1349719.8242     \n",
      "Epoch 195/200\n",
      "8523/8523 [==============================] - 5s - loss: 1350837.8204     \n",
      "Epoch 196/200\n",
      "8523/8523 [==============================] - 6s - loss: 1349730.6449     \n",
      "Epoch 197/200\n",
      "8523/8523 [==============================] - 5s - loss: 1349354.7867     \n",
      "Epoch 198/200\n",
      "8523/8523 [==============================] - 5s - loss: 1349608.3549     \n",
      "Epoch 199/200\n",
      "8523/8523 [==============================] - 5s - loss: 1349772.4068     \n",
      "Epoch 200/200\n",
      "8523/8523 [==============================] - 5s - loss: 1348143.6969     \n",
      "5655/5681 [============================>.] - ETA: 0s"
     ]
    }
   ],
   "source": [
    "\n",
    "from keras.models import Sequential\n",
    "from keras.layers import Dense\n",
    "from keras.wrappers.scikit_learn import KerasRegressor\n",
    "from keras.utils import np_utils\n",
    "\n",
    "def baseline_model():\n",
    "    # create model\n",
    "    model = Sequential()\n",
    "    model.add(Dense(10, input_dim=10, init='normal', activation='relu'))\n",
    "    model.add(Dense(1, init='normal'))\n",
    "    # Compile model\n",
    "    model.compile(loss='mean_squared_error', optimizer='adam')\n",
    "    return model\n",
    "estimator = KerasRegressor(build_fn=baseline_model, nb_epoch=200, batch_size=5, verbose=1)\n",
    "estimator.fit(X_train.as_matrix(),Y_train.as_matrix())\n",
    "Y_pred9 = estimator.predict(X_test.as_matrix())"
   ]
  },
  {
   "cell_type": "code",
   "execution_count": 23,
   "metadata": {
    "collapsed": true
   },
   "outputs": [],
   "source": [
    "np.savetxt('C:/Users/sunny/Desktop/ML-NG/analyticsVidhya/Big-mart-sales/stacking1.csv', Y_pred9, delimiter=',')"
   ]
  },
  {
   "cell_type": "code",
   "execution_count": null,
   "metadata": {
    "collapsed": true
   },
   "outputs": [],
   "source": [
    "\n"
   ]
  },
  {
   "cell_type": "code",
   "execution_count": null,
   "metadata": {
    "collapsed": true
   },
   "outputs": [],
   "source": []
  }
 ],
 "metadata": {
  "anaconda-cloud": {},
  "kernelspec": {
   "display_name": "Python [conda root]",
   "language": "python",
   "name": "conda-root-py"
  },
  "language_info": {
   "codemirror_mode": {
    "name": "ipython",
    "version": 3
   },
   "file_extension": ".py",
   "mimetype": "text/x-python",
   "name": "python",
   "nbconvert_exporter": "python",
   "pygments_lexer": "ipython3",
   "version": "3.5.2"
  }
 },
 "nbformat": 4,
 "nbformat_minor": 1
}
